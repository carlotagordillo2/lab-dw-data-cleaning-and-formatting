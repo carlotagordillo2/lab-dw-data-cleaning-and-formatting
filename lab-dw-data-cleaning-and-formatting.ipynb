{
  "cells": [
    {
      "cell_type": "markdown",
      "id": "25d7736c-ba17-4aff-b6bb-66eba20fbf4e",
      "metadata": {
        "id": "25d7736c-ba17-4aff-b6bb-66eba20fbf4e"
      },
      "source": [
        "# Lab | Data Cleaning and Formatting"
      ]
    },
    {
      "cell_type": "markdown",
      "id": "d1973e9e-8be6-4039-b70e-d73ee0d94c99",
      "metadata": {
        "id": "d1973e9e-8be6-4039-b70e-d73ee0d94c99"
      },
      "source": [
        "In this lab, we will be working with the customer data from an insurance company, which can be found in the CSV file located at the following link: https://raw.githubusercontent.com/data-bootcamp-v4/data/main/file1.csv\n"
      ]
    },
    {
      "cell_type": "markdown",
      "id": "31b8a9e7-7db9-4604-991b-ef6771603e57",
      "metadata": {
        "id": "31b8a9e7-7db9-4604-991b-ef6771603e57"
      },
      "source": [
        "# Challenge 1: Data Cleaning and Formatting"
      ]
    },
    {
      "cell_type": "markdown",
      "id": "81553f19-9f2c-484b-8940-520aff884022",
      "metadata": {
        "id": "81553f19-9f2c-484b-8940-520aff884022"
      },
      "source": [
        "## Exercise 1: Cleaning Column Names"
      ]
    },
    {
      "cell_type": "markdown",
      "id": "34a929f4-1be4-4fa8-adda-42ffd920be90",
      "metadata": {
        "id": "34a929f4-1be4-4fa8-adda-42ffd920be90"
      },
      "source": [
        "To ensure consistency and ease of use, standardize the column names of the dataframe. Start by taking a first look at the dataframe and identifying any column names that need to be modified. Use appropriate naming conventions and make sure that column names are descriptive and informative.\n",
        "\n",
        "*Hint*:\n",
        "- *Column names should be in lower case*\n",
        "- *White spaces in column names should be replaced by `_`*\n",
        "- *`st` could be replaced for `state`*"
      ]
    },
    {
      "cell_type": "code",
      "execution_count": 1,
      "id": "4f409987",
      "metadata": {},
      "outputs": [],
      "source": [
        "import pandas as pd"
      ]
    },
    {
      "cell_type": "code",
      "execution_count": 2,
      "id": "5810735c-8056-4442-bbf2-dda38d3e284a",
      "metadata": {
        "id": "5810735c-8056-4442-bbf2-dda38d3e284a"
      },
      "outputs": [],
      "source": [
        "url = 'https://raw.githubusercontent.com/data-bootcamp-v4/data/main/file1.csv'\n",
        "df = pd.read_csv(url)"
      ]
    },
    {
      "cell_type": "code",
      "execution_count": 9,
      "id": "de58e4f3",
      "metadata": {},
      "outputs": [
        {
          "data": {
            "text/html": [
              "<div>\n",
              "<style scoped>\n",
              "    .dataframe tbody tr th:only-of-type {\n",
              "        vertical-align: middle;\n",
              "    }\n",
              "\n",
              "    .dataframe tbody tr th {\n",
              "        vertical-align: top;\n",
              "    }\n",
              "\n",
              "    .dataframe thead th {\n",
              "        text-align: right;\n",
              "    }\n",
              "</style>\n",
              "<table border=\"1\" class=\"dataframe\">\n",
              "  <thead>\n",
              "    <tr style=\"text-align: right;\">\n",
              "      <th></th>\n",
              "      <th>Customer</th>\n",
              "      <th>ST</th>\n",
              "      <th>GENDER</th>\n",
              "      <th>Education</th>\n",
              "      <th>Customer Lifetime Value</th>\n",
              "      <th>Income</th>\n",
              "      <th>Monthly Premium Auto</th>\n",
              "      <th>Number of Open Complaints</th>\n",
              "      <th>Policy Type</th>\n",
              "      <th>Vehicle Class</th>\n",
              "      <th>Total Claim Amount</th>\n",
              "    </tr>\n",
              "  </thead>\n",
              "  <tbody>\n",
              "    <tr>\n",
              "      <th>0</th>\n",
              "      <td>RB50392</td>\n",
              "      <td>Washington</td>\n",
              "      <td>NaN</td>\n",
              "      <td>Master</td>\n",
              "      <td>NaN</td>\n",
              "      <td>0.0</td>\n",
              "      <td>1000.0</td>\n",
              "      <td>1/0/00</td>\n",
              "      <td>Personal Auto</td>\n",
              "      <td>Four-Door Car</td>\n",
              "      <td>2.704934</td>\n",
              "    </tr>\n",
              "    <tr>\n",
              "      <th>1</th>\n",
              "      <td>QZ44356</td>\n",
              "      <td>Arizona</td>\n",
              "      <td>F</td>\n",
              "      <td>Bachelor</td>\n",
              "      <td>697953.59%</td>\n",
              "      <td>0.0</td>\n",
              "      <td>94.0</td>\n",
              "      <td>1/0/00</td>\n",
              "      <td>Personal Auto</td>\n",
              "      <td>Four-Door Car</td>\n",
              "      <td>1131.464935</td>\n",
              "    </tr>\n",
              "    <tr>\n",
              "      <th>2</th>\n",
              "      <td>AI49188</td>\n",
              "      <td>Nevada</td>\n",
              "      <td>F</td>\n",
              "      <td>Bachelor</td>\n",
              "      <td>1288743.17%</td>\n",
              "      <td>48767.0</td>\n",
              "      <td>108.0</td>\n",
              "      <td>1/0/00</td>\n",
              "      <td>Personal Auto</td>\n",
              "      <td>Two-Door Car</td>\n",
              "      <td>566.472247</td>\n",
              "    </tr>\n",
              "    <tr>\n",
              "      <th>3</th>\n",
              "      <td>WW63253</td>\n",
              "      <td>California</td>\n",
              "      <td>M</td>\n",
              "      <td>Bachelor</td>\n",
              "      <td>764586.18%</td>\n",
              "      <td>0.0</td>\n",
              "      <td>106.0</td>\n",
              "      <td>1/0/00</td>\n",
              "      <td>Corporate Auto</td>\n",
              "      <td>SUV</td>\n",
              "      <td>529.881344</td>\n",
              "    </tr>\n",
              "    <tr>\n",
              "      <th>4</th>\n",
              "      <td>GA49547</td>\n",
              "      <td>Washington</td>\n",
              "      <td>M</td>\n",
              "      <td>High School or Below</td>\n",
              "      <td>536307.65%</td>\n",
              "      <td>36357.0</td>\n",
              "      <td>68.0</td>\n",
              "      <td>1/0/00</td>\n",
              "      <td>Personal Auto</td>\n",
              "      <td>Four-Door Car</td>\n",
              "      <td>17.269323</td>\n",
              "    </tr>\n",
              "  </tbody>\n",
              "</table>\n",
              "</div>"
            ],
            "text/plain": [
              "  Customer          ST GENDER             Education Customer Lifetime Value  \\\n",
              "0  RB50392  Washington    NaN                Master                     NaN   \n",
              "1  QZ44356     Arizona      F              Bachelor              697953.59%   \n",
              "2  AI49188      Nevada      F              Bachelor             1288743.17%   \n",
              "3  WW63253  California      M              Bachelor              764586.18%   \n",
              "4  GA49547  Washington      M  High School or Below              536307.65%   \n",
              "\n",
              "    Income  Monthly Premium Auto Number of Open Complaints     Policy Type  \\\n",
              "0      0.0                1000.0                    1/0/00   Personal Auto   \n",
              "1      0.0                  94.0                    1/0/00   Personal Auto   \n",
              "2  48767.0                 108.0                    1/0/00   Personal Auto   \n",
              "3      0.0                 106.0                    1/0/00  Corporate Auto   \n",
              "4  36357.0                  68.0                    1/0/00   Personal Auto   \n",
              "\n",
              "   Vehicle Class  Total Claim Amount  \n",
              "0  Four-Door Car            2.704934  \n",
              "1  Four-Door Car         1131.464935  \n",
              "2   Two-Door Car          566.472247  \n",
              "3            SUV          529.881344  \n",
              "4  Four-Door Car           17.269323  "
            ]
          },
          "execution_count": 9,
          "metadata": {},
          "output_type": "execute_result"
        }
      ],
      "source": [
        "df.head()"
      ]
    },
    {
      "cell_type": "code",
      "execution_count": 10,
      "id": "ad7b8d73",
      "metadata": {},
      "outputs": [
        {
          "data": {
            "text/html": [
              "<div>\n",
              "<style scoped>\n",
              "    .dataframe tbody tr th:only-of-type {\n",
              "        vertical-align: middle;\n",
              "    }\n",
              "\n",
              "    .dataframe tbody tr th {\n",
              "        vertical-align: top;\n",
              "    }\n",
              "\n",
              "    .dataframe thead th {\n",
              "        text-align: right;\n",
              "    }\n",
              "</style>\n",
              "<table border=\"1\" class=\"dataframe\">\n",
              "  <thead>\n",
              "    <tr style=\"text-align: right;\">\n",
              "      <th></th>\n",
              "      <th>customer</th>\n",
              "      <th>state</th>\n",
              "      <th>gender</th>\n",
              "      <th>education</th>\n",
              "      <th>customer_lifetime_value</th>\n",
              "      <th>income</th>\n",
              "      <th>monthly_premium_auto</th>\n",
              "      <th>number_of_open_complaints</th>\n",
              "      <th>policy_type</th>\n",
              "      <th>vehicle_class</th>\n",
              "      <th>total_claim_amount</th>\n",
              "    </tr>\n",
              "  </thead>\n",
              "  <tbody>\n",
              "    <tr>\n",
              "      <th>0</th>\n",
              "      <td>RB50392</td>\n",
              "      <td>Washington</td>\n",
              "      <td>NaN</td>\n",
              "      <td>Master</td>\n",
              "      <td>NaN</td>\n",
              "      <td>0.0</td>\n",
              "      <td>1000.0</td>\n",
              "      <td>1/0/00</td>\n",
              "      <td>Personal Auto</td>\n",
              "      <td>Four-Door Car</td>\n",
              "      <td>2.704934</td>\n",
              "    </tr>\n",
              "    <tr>\n",
              "      <th>1</th>\n",
              "      <td>QZ44356</td>\n",
              "      <td>Arizona</td>\n",
              "      <td>F</td>\n",
              "      <td>Bachelor</td>\n",
              "      <td>697953.59%</td>\n",
              "      <td>0.0</td>\n",
              "      <td>94.0</td>\n",
              "      <td>1/0/00</td>\n",
              "      <td>Personal Auto</td>\n",
              "      <td>Four-Door Car</td>\n",
              "      <td>1131.464935</td>\n",
              "    </tr>\n",
              "    <tr>\n",
              "      <th>2</th>\n",
              "      <td>AI49188</td>\n",
              "      <td>Nevada</td>\n",
              "      <td>F</td>\n",
              "      <td>Bachelor</td>\n",
              "      <td>1288743.17%</td>\n",
              "      <td>48767.0</td>\n",
              "      <td>108.0</td>\n",
              "      <td>1/0/00</td>\n",
              "      <td>Personal Auto</td>\n",
              "      <td>Two-Door Car</td>\n",
              "      <td>566.472247</td>\n",
              "    </tr>\n",
              "    <tr>\n",
              "      <th>3</th>\n",
              "      <td>WW63253</td>\n",
              "      <td>California</td>\n",
              "      <td>M</td>\n",
              "      <td>Bachelor</td>\n",
              "      <td>764586.18%</td>\n",
              "      <td>0.0</td>\n",
              "      <td>106.0</td>\n",
              "      <td>1/0/00</td>\n",
              "      <td>Corporate Auto</td>\n",
              "      <td>SUV</td>\n",
              "      <td>529.881344</td>\n",
              "    </tr>\n",
              "    <tr>\n",
              "      <th>4</th>\n",
              "      <td>GA49547</td>\n",
              "      <td>Washington</td>\n",
              "      <td>M</td>\n",
              "      <td>High School or Below</td>\n",
              "      <td>536307.65%</td>\n",
              "      <td>36357.0</td>\n",
              "      <td>68.0</td>\n",
              "      <td>1/0/00</td>\n",
              "      <td>Personal Auto</td>\n",
              "      <td>Four-Door Car</td>\n",
              "      <td>17.269323</td>\n",
              "    </tr>\n",
              "  </tbody>\n",
              "</table>\n",
              "</div>"
            ],
            "text/plain": [
              "  customer       state gender             education customer_lifetime_value  \\\n",
              "0  RB50392  Washington    NaN                Master                     NaN   \n",
              "1  QZ44356     Arizona      F              Bachelor              697953.59%   \n",
              "2  AI49188      Nevada      F              Bachelor             1288743.17%   \n",
              "3  WW63253  California      M              Bachelor              764586.18%   \n",
              "4  GA49547  Washington      M  High School or Below              536307.65%   \n",
              "\n",
              "    income  monthly_premium_auto number_of_open_complaints     policy_type  \\\n",
              "0      0.0                1000.0                    1/0/00   Personal Auto   \n",
              "1      0.0                  94.0                    1/0/00   Personal Auto   \n",
              "2  48767.0                 108.0                    1/0/00   Personal Auto   \n",
              "3      0.0                 106.0                    1/0/00  Corporate Auto   \n",
              "4  36357.0                  68.0                    1/0/00   Personal Auto   \n",
              "\n",
              "   vehicle_class  total_claim_amount  \n",
              "0  Four-Door Car            2.704934  \n",
              "1  Four-Door Car         1131.464935  \n",
              "2   Two-Door Car          566.472247  \n",
              "3            SUV          529.881344  \n",
              "4  Four-Door Car           17.269323  "
            ]
          },
          "execution_count": 10,
          "metadata": {},
          "output_type": "execute_result"
        }
      ],
      "source": [
        "df.columns = df.columns.str.lower().str.replace(' ', '_')\n",
        "df.rename(columns = {\n",
        "          'st': 'state'}, \n",
        "          inplace=True)\n",
        "df.head()\n"
      ]
    },
    {
      "cell_type": "markdown",
      "id": "9cb501ec-36ff-4589-b872-6252bb150316",
      "metadata": {
        "id": "9cb501ec-36ff-4589-b872-6252bb150316"
      },
      "source": [
        "## Exercise 2: Cleaning invalid Values"
      ]
    },
    {
      "cell_type": "markdown",
      "id": "771fdcf3-8e20-4b06-9c24-3a93ba2b0909",
      "metadata": {
        "id": "771fdcf3-8e20-4b06-9c24-3a93ba2b0909"
      },
      "source": [
        "The dataset contains columns with inconsistent and incorrect values that could affect the accuracy of our analysis. Therefore, we need to clean these columns to ensure that they only contain valid data.\n",
        "\n",
        "Note that this exercise will focus only on cleaning inconsistent values and will not involve handling null values (NaN or None).\n",
        "\n",
        "*Hint*:\n",
        "- *Gender column contains various inconsistent values such as \"F\", \"M\", \"Femal\", \"Male\", \"female\", which need to be standardized, for example, to \"M\" and \"F\".*\n",
        "- *State abbreviations be can replaced with its full name, for example \"AZ\": \"Arizona\", \"Cali\": \"California\", \"WA\": \"Washington\"*\n",
        "- *In education, \"Bachelors\" could be replaced by \"Bachelor\"*\n",
        "- *In Customer Lifetime Value, delete the `%` character*\n",
        "- *In vehicle class, \"Sports Car\", \"Luxury SUV\" and \"Luxury Car\" could be replaced by \"Luxury\"*"
      ]
    },
    {
      "cell_type": "markdown",
      "id": "07c0aa19",
      "metadata": {},
      "source": [
        "*Gender*"
      ]
    },
    {
      "cell_type": "code",
      "execution_count": 11,
      "id": "3f8ee5cb-50ab-48af-8a9f-9a389804033c",
      "metadata": {
        "id": "3f8ee5cb-50ab-48af-8a9f-9a389804033c"
      },
      "outputs": [
        {
          "data": {
            "text/plain": [
              "array([nan, 'F', 'M', 'Femal', 'Male', 'female'], dtype=object)"
            ]
          },
          "execution_count": 11,
          "metadata": {},
          "output_type": "execute_result"
        }
      ],
      "source": [
        "df[\"gender\"].unique()"
      ]
    },
    {
      "cell_type": "code",
      "execution_count": 12,
      "id": "226f515d",
      "metadata": {},
      "outputs": [],
      "source": [
        "import numpy as np"
      ]
    },
    {
      "cell_type": "code",
      "execution_count": 14,
      "id": "b64e23a2",
      "metadata": {},
      "outputs": [],
      "source": [
        "def gender(gender): \n",
        "    mujer = ['F', 'Femal', 'female']\n",
        "    hombre = ['M', 'Male']\n",
        "    if (gender in mujer): \n",
        "        return 'F'\n",
        "    elif (gender in hombre): \n",
        "        return 'M'\n",
        "    else: \n",
        "        return gender"
      ]
    },
    {
      "cell_type": "code",
      "execution_count": 15,
      "id": "6a93e176",
      "metadata": {},
      "outputs": [],
      "source": [
        "df[\"gender\"] = df[\"gender\"].apply(gender)"
      ]
    },
    {
      "cell_type": "code",
      "execution_count": 16,
      "id": "eed32486",
      "metadata": {},
      "outputs": [
        {
          "data": {
            "text/plain": [
              "array([nan, 'F', 'M'], dtype=object)"
            ]
          },
          "execution_count": 16,
          "metadata": {},
          "output_type": "execute_result"
        }
      ],
      "source": [
        "df[\"gender\"].unique()"
      ]
    },
    {
      "cell_type": "markdown",
      "id": "6f795b87",
      "metadata": {},
      "source": [
        "*State*\n",
        "- *State abbreviations be can replaced with its full name, for example \"AZ\": \"Arizona\", \"Cali\": \"California\", \"WA\": \"Washington\"*"
      ]
    },
    {
      "cell_type": "code",
      "execution_count": 17,
      "id": "651af014",
      "metadata": {},
      "outputs": [
        {
          "data": {
            "text/plain": [
              "array(['Washington', 'Arizona', 'Nevada', 'California', 'Oregon', 'Cali',\n",
              "       'AZ', 'WA', nan], dtype=object)"
            ]
          },
          "execution_count": 17,
          "metadata": {},
          "output_type": "execute_result"
        }
      ],
      "source": [
        "df[\"state\"].unique()"
      ]
    },
    {
      "cell_type": "code",
      "execution_count": 18,
      "id": "04b36b70",
      "metadata": {},
      "outputs": [
        {
          "data": {
            "text/plain": [
              "array(['Washington', 'Arizona', 'Nevada', 'California', 'Oregon', nan],\n",
              "      dtype=object)"
            ]
          },
          "execution_count": 18,
          "metadata": {},
          "output_type": "execute_result"
        }
      ],
      "source": [
        "df['state'] = df['state'].replace('AZ', 'Arizona')\n",
        "df['state'] = df['state'].replace('WA', 'Washington')\n",
        "df['state'] = df['state'].replace('Cali', 'California')\n",
        "\n",
        "df['state'].unique()"
      ]
    },
    {
      "cell_type": "markdown",
      "id": "a7366355",
      "metadata": {},
      "source": [
        "- *In education, \"Bachelors\" could be replaced by \"Bachelor\"*"
      ]
    },
    {
      "cell_type": "code",
      "execution_count": 19,
      "id": "eb41eba5",
      "metadata": {},
      "outputs": [
        {
          "data": {
            "text/plain": [
              "array(['Master', 'Bachelor', 'High School or Below', 'College', 'Doctor',\n",
              "       nan], dtype=object)"
            ]
          },
          "execution_count": 19,
          "metadata": {},
          "output_type": "execute_result"
        }
      ],
      "source": [
        "df['education'].unique()\n",
        "df['education'] = df['education'].replace(\"Bachelors\", \"Bachelor\")\n",
        "df['education'].unique()"
      ]
    },
    {
      "cell_type": "markdown",
      "id": "939a7d85",
      "metadata": {},
      "source": [
        "- *In Customer Lifetime Value, delete the `%` character*"
      ]
    },
    {
      "cell_type": "code",
      "execution_count": 20,
      "id": "cb3ee189",
      "metadata": {},
      "outputs": [
        {
          "data": {
            "text/plain": [
              "customer                      object\n",
              "state                         object\n",
              "gender                        object\n",
              "education                     object\n",
              "customer_lifetime_value       object\n",
              "income                       float64\n",
              "monthly_premium_auto         float64\n",
              "number_of_open_complaints     object\n",
              "policy_type                   object\n",
              "vehicle_class                 object\n",
              "total_claim_amount           float64\n",
              "dtype: object"
            ]
          },
          "execution_count": 20,
          "metadata": {},
          "output_type": "execute_result"
        }
      ],
      "source": [
        "df.dtypes"
      ]
    },
    {
      "cell_type": "code",
      "execution_count": 21,
      "id": "1aa9d264",
      "metadata": {},
      "outputs": [
        {
          "data": {
            "text/plain": [
              "0               NaN\n",
              "1        697953.59 \n",
              "2       1288743.17 \n",
              "3        764586.18 \n",
              "4        536307.65 \n",
              "           ...     \n",
              "4003            NaN\n",
              "4004            NaN\n",
              "4005            NaN\n",
              "4006            NaN\n",
              "4007            NaN\n",
              "Name: customer_lifetime_value, Length: 4008, dtype: object"
            ]
          },
          "execution_count": 21,
          "metadata": {},
          "output_type": "execute_result"
        }
      ],
      "source": [
        "df[\"customer_lifetime_value\"] = df[\"customer_lifetime_value\"].str.replace(\"%\", \" \")\n",
        "df[\"customer_lifetime_value\"]"
      ]
    },
    {
      "cell_type": "markdown",
      "id": "9c34c2a2",
      "metadata": {},
      "source": [
        "- *In vehicle class, \"Sports Car\", \"Luxury SUV\" and \"Luxury Car\" could be replaced by \"Luxury\"*"
      ]
    },
    {
      "cell_type": "code",
      "execution_count": 22,
      "id": "0c1a6336",
      "metadata": {},
      "outputs": [
        {
          "data": {
            "text/plain": [
              "0       Four-Door Car\n",
              "1       Four-Door Car\n",
              "2        Two-Door Car\n",
              "3                 SUV\n",
              "4       Four-Door Car\n",
              "            ...      \n",
              "4003              NaN\n",
              "4004              NaN\n",
              "4005              NaN\n",
              "4006              NaN\n",
              "4007              NaN\n",
              "Name: vehicle_class, Length: 4008, dtype: object"
            ]
          },
          "execution_count": 22,
          "metadata": {},
          "output_type": "execute_result"
        }
      ],
      "source": [
        "df[\"vehicle_class\"]"
      ]
    },
    {
      "cell_type": "code",
      "execution_count": 23,
      "id": "25dd655d",
      "metadata": {},
      "outputs": [
        {
          "data": {
            "text/plain": [
              "array(['Four-Door Car', 'Two-Door Car', 'SUV', 'Luxury', nan],\n",
              "      dtype=object)"
            ]
          },
          "execution_count": 23,
          "metadata": {},
          "output_type": "execute_result"
        }
      ],
      "source": [
        "df[\"vehicle_class\"] = df[\"vehicle_class\"].apply(lambda x: \"Luxury\" if ( x in [\"Sports Car\", \"Luxury SUV\", \"Luxury Car\"]) else x)\n",
        "df[\"vehicle_class\"].unique()"
      ]
    },
    {
      "cell_type": "markdown",
      "id": "85ff78ce-0174-4890-9db3-8048b7d7d2d0",
      "metadata": {
        "id": "85ff78ce-0174-4890-9db3-8048b7d7d2d0"
      },
      "source": [
        "## Exercise 3: Formatting data types"
      ]
    },
    {
      "cell_type": "markdown",
      "id": "b91c2cf8-79a2-4baf-9f65-ff2fb22270bd",
      "metadata": {
        "id": "b91c2cf8-79a2-4baf-9f65-ff2fb22270bd"
      },
      "source": [
        "The data types of many columns in the dataset appear to be incorrect. This could impact the accuracy of our analysis. To ensure accurate analysis, we need to correct the data types of these columns. Please update the data types of the columns as appropriate."
      ]
    },
    {
      "cell_type": "markdown",
      "id": "43e5d853-ff9e-43b2-9d92-aef2f78764f3",
      "metadata": {
        "id": "43e5d853-ff9e-43b2-9d92-aef2f78764f3"
      },
      "source": [
        "It is important to note that this exercise does not involve handling null values (NaN or None)."
      ]
    },
    {
      "cell_type": "markdown",
      "id": "329ca691-9196-4419-8969-3596746237a1",
      "metadata": {
        "id": "329ca691-9196-4419-8969-3596746237a1"
      },
      "source": [
        "*Hint*:\n",
        "- *Customer lifetime value should be numeric*\n",
        "- *Number of open complaints has an incorrect format. Look at the different values it takes with `unique()` and take the middle value. As an example, 1/5/00 should be 5. Number of open complaints is a string - remember you can use `split()` to deal with it and take the number you need. Finally, since it should be numeric, cast the column to be in its proper type.*"
      ]
    },
    {
      "cell_type": "markdown",
      "id": "5a27545c",
      "metadata": {},
      "source": [
        "- *Customer lifetime value should be numeric*"
      ]
    },
    {
      "cell_type": "code",
      "execution_count": 24,
      "id": "eb8f5991-73e9-405f-bf1c-6b7c589379a9",
      "metadata": {
        "id": "eb8f5991-73e9-405f-bf1c-6b7c589379a9"
      },
      "outputs": [],
      "source": [
        "df[\"customer_lifetime_value\"] = df[\"customer_lifetime_value\"].astype(float)"
      ]
    },
    {
      "cell_type": "code",
      "execution_count": 25,
      "id": "ed703eec",
      "metadata": {},
      "outputs": [
        {
          "data": {
            "text/plain": [
              "customer                      object\n",
              "state                         object\n",
              "gender                        object\n",
              "education                     object\n",
              "customer_lifetime_value      float64\n",
              "income                       float64\n",
              "monthly_premium_auto         float64\n",
              "number_of_open_complaints     object\n",
              "policy_type                   object\n",
              "vehicle_class                 object\n",
              "total_claim_amount           float64\n",
              "dtype: object"
            ]
          },
          "execution_count": 25,
          "metadata": {},
          "output_type": "execute_result"
        }
      ],
      "source": [
        "df.dtypes"
      ]
    },
    {
      "cell_type": "markdown",
      "id": "78d52761",
      "metadata": {},
      "source": [
        "- *Number of open complaints has an incorrect format. Look at the different values it takes with `unique()` and take the middle value. As an example, 1/5/00 should be 5. Number of open complaints is a string - remember you can use `split()` to deal with it and take the number you need. Finally, since it should be numeric, cast the column to be in its proper type.*"
      ]
    },
    {
      "cell_type": "code",
      "execution_count": 26,
      "id": "1b1334ba",
      "metadata": {},
      "outputs": [
        {
          "data": {
            "text/plain": [
              "array(['1/0/00', '1/2/00', '1/1/00', '1/3/00', '1/5/00', '1/4/00', nan],\n",
              "      dtype=object)"
            ]
          },
          "execution_count": 26,
          "metadata": {},
          "output_type": "execute_result"
        }
      ],
      "source": [
        "df['number_of_open_complaints'].unique()"
      ]
    },
    {
      "cell_type": "code",
      "execution_count": 27,
      "id": "69a3bd4d",
      "metadata": {},
      "outputs": [],
      "source": [
        "def correct_format(com): \n",
        "    \n",
        "    try: \n",
        "        middle_value = com.split('/')[1]\n",
        "        return int(middle_value)\n",
        "    except: \n",
        "        return com"
      ]
    },
    {
      "cell_type": "code",
      "execution_count": 28,
      "id": "c4031566",
      "metadata": {},
      "outputs": [],
      "source": [
        "df['number_of_open_complaints'] = df['number_of_open_complaints'].apply(correct_format)"
      ]
    },
    {
      "cell_type": "code",
      "execution_count": 29,
      "id": "903e04a9",
      "metadata": {},
      "outputs": [
        {
          "data": {
            "text/plain": [
              "customer                      object\n",
              "state                         object\n",
              "gender                        object\n",
              "education                     object\n",
              "customer_lifetime_value      float64\n",
              "income                       float64\n",
              "monthly_premium_auto         float64\n",
              "number_of_open_complaints    float64\n",
              "policy_type                   object\n",
              "vehicle_class                 object\n",
              "total_claim_amount           float64\n",
              "dtype: object"
            ]
          },
          "execution_count": 29,
          "metadata": {},
          "output_type": "execute_result"
        }
      ],
      "source": [
        "df.dtypes"
      ]
    },
    {
      "cell_type": "markdown",
      "id": "14c52e28-2d0c-4dd2-8bd5-3476e34fadc1",
      "metadata": {
        "id": "14c52e28-2d0c-4dd2-8bd5-3476e34fadc1"
      },
      "source": [
        "## Exercise 4: Dealing with Null values"
      ]
    },
    {
      "cell_type": "markdown",
      "id": "34b9a20f-7d32-4417-975e-1b4dfb0e16cd",
      "metadata": {
        "id": "34b9a20f-7d32-4417-975e-1b4dfb0e16cd"
      },
      "source": [
        "Identify any columns with null or missing values. Identify how many null values each column has. You can use the `isnull()` function in pandas to find columns with null values.\n",
        "\n",
        "Decide on a strategy for handling the null values. There are several options, including:\n",
        "\n",
        "- Drop the rows or columns with null values\n",
        "- Fill the null values with a specific value (such as the column mean or median for numerical variables, and mode for categorical variables)\n",
        "- Fill the null values with the previous or next value in the column\n",
        "- Fill the null values based on a more complex algorithm or model (note: we haven't covered this yet)\n",
        "\n",
        "Implement your chosen strategy to handle the null values. You can use the `fillna()` function in pandas to fill null values or `dropna()` function to drop null values.\n",
        "\n",
        "Verify that your strategy has successfully handled the null values. You can use the `isnull()` function again to check if there are still null values in the dataset.\n",
        "\n",
        "Remember to document your process and explain your reasoning for choosing a particular strategy for handling null values.\n",
        "\n",
        "After formatting data types, as a last step, convert all the numeric variables to integers."
      ]
    },
    {
      "cell_type": "code",
      "execution_count": 30,
      "id": "fcf0e25f",
      "metadata": {},
      "outputs": [],
      "source": [
        "#primero eliminamos las filas q tengan todos los valores nulos \n",
        "\n",
        "df.dropna(how='all', inplace=True)"
      ]
    },
    {
      "cell_type": "code",
      "execution_count": 31,
      "id": "f184fc35-7831-4836-a0a5-e7f99e01b40e",
      "metadata": {
        "id": "f184fc35-7831-4836-a0a5-e7f99e01b40e"
      },
      "outputs": [
        {
          "data": {
            "text/plain": [
              "customer                     False\n",
              "state                        False\n",
              "gender                        True\n",
              "education                    False\n",
              "customer_lifetime_value       True\n",
              "income                       False\n",
              "monthly_premium_auto         False\n",
              "number_of_open_complaints    False\n",
              "policy_type                  False\n",
              "vehicle_class                False\n",
              "total_claim_amount           False\n",
              "dtype: bool"
            ]
          },
          "execution_count": 31,
          "metadata": {},
          "output_type": "execute_result"
        }
      ],
      "source": [
        "df.isnull().any() #una vez que hemos eliminado las filas q tenian todos los valores nulos, vemos cual sigen teniendo:"
      ]
    },
    {
      "cell_type": "markdown",
      "id": "484fb14e",
      "metadata": {},
      "source": [
        "Tenenmos 2: `gender` y `customer_lifetime_value`"
      ]
    },
    {
      "cell_type": "code",
      "execution_count": 32,
      "id": "c747957c",
      "metadata": {},
      "outputs": [
        {
          "data": {
            "text/plain": [
              "3"
            ]
          },
          "execution_count": 32,
          "metadata": {},
          "output_type": "execute_result"
        }
      ],
      "source": [
        "#customer_lifetime_value\n",
        "df['customer_lifetime_value'].isnull().sum() #solo tenemos tres valores"
      ]
    },
    {
      "cell_type": "code",
      "execution_count": 33,
      "id": "16e70dbd",
      "metadata": {},
      "outputs": [],
      "source": [
        "df['customer_lifetime_value'] = df['customer_lifetime_value'].fillna(df['customer_lifetime_value'].mean())"
      ]
    },
    {
      "cell_type": "code",
      "execution_count": 34,
      "id": "7b8bd50b",
      "metadata": {},
      "outputs": [
        {
          "data": {
            "text/plain": [
              "117"
            ]
          },
          "execution_count": 34,
          "metadata": {},
          "output_type": "execute_result"
        }
      ],
      "source": [
        "df[\"gender\"].isnull().sum()"
      ]
    },
    {
      "cell_type": "code",
      "execution_count": 35,
      "id": "d4d865ba",
      "metadata": {},
      "outputs": [
        {
          "data": {
            "text/plain": [
              "gender\n",
              "F    502\n",
              "M    452\n",
              "Name: count, dtype: int64"
            ]
          },
          "execution_count": 35,
          "metadata": {},
          "output_type": "execute_result"
        }
      ],
      "source": [
        "df[\"gender\"].value_counts()"
      ]
    },
    {
      "cell_type": "code",
      "execution_count": 36,
      "id": "898db5e9",
      "metadata": {},
      "outputs": [
        {
          "name": "stderr",
          "output_type": "stream",
          "text": [
            "C:\\Users\\Carlota\\AppData\\Local\\Temp\\ipykernel_10788\\3833797719.py:1: FutureWarning: Series.fillna with 'method' is deprecated and will raise in a future version. Use obj.ffill() or obj.bfill() instead.\n",
            "  df['gender'].fillna(method='bfill', inplace=True) # vamos a replazarlo por el valor posterior\n"
          ]
        }
      ],
      "source": [
        "df['gender'].fillna(method='bfill', inplace=True) # vamos a replazarlo por el valor posterior"
      ]
    },
    {
      "cell_type": "code",
      "execution_count": 37,
      "id": "11351cc5",
      "metadata": {},
      "outputs": [
        {
          "data": {
            "text/plain": [
              "array(['F', 'M'], dtype=object)"
            ]
          },
          "execution_count": 37,
          "metadata": {},
          "output_type": "execute_result"
        }
      ],
      "source": [
        "df['gender'].unique()"
      ]
    },
    {
      "cell_type": "code",
      "execution_count": 38,
      "id": "dc5cc701",
      "metadata": {},
      "outputs": [
        {
          "data": {
            "text/plain": [
              "customer                     False\n",
              "state                        False\n",
              "gender                       False\n",
              "education                    False\n",
              "customer_lifetime_value      False\n",
              "income                       False\n",
              "monthly_premium_auto         False\n",
              "number_of_open_complaints    False\n",
              "policy_type                  False\n",
              "vehicle_class                False\n",
              "total_claim_amount           False\n",
              "dtype: bool"
            ]
          },
          "execution_count": 38,
          "metadata": {},
          "output_type": "execute_result"
        }
      ],
      "source": [
        "df.isnull().any() #ningun valor nulo"
      ]
    },
    {
      "cell_type": "markdown",
      "id": "98416351-e999-4156-9834-9b00a311adfa",
      "metadata": {
        "id": "98416351-e999-4156-9834-9b00a311adfa"
      },
      "source": [
        "## Exercise 5: Dealing with duplicates"
      ]
    },
    {
      "cell_type": "markdown",
      "id": "ea0816a7-a18e-4d4c-b667-a8452a800bd1",
      "metadata": {
        "id": "ea0816a7-a18e-4d4c-b667-a8452a800bd1"
      },
      "source": [
        "Use the `.duplicated()` method to identify any duplicate rows in the dataframe.\n",
        "\n",
        "Decide on a strategy for handling the duplicates. Options include:\n",
        "- Dropping all duplicate rows\n",
        "- Keeping only the first occurrence of each duplicated row\n",
        "- Keeping only the last occurrence of each duplicated row\n",
        "- Dropping duplicates based on a subset of columns\n",
        "- Dropping duplicates based on a specific column\n",
        "\n",
        "Implement your chosen strategy using the `drop_duplicates()` function.\n",
        "\n",
        "Verify that your strategy has successfully handled the duplicates by checking for duplicates again using `.duplicated()`.\n",
        "\n",
        "Remember to document your process and explain your reasoning for choosing a particular strategy for handling duplicates.\n",
        "\n",
        "Save the cleaned dataset to a new CSV file.\n",
        "\n",
        "*Hint*: *after dropping duplicates, reset the index to ensure consistency*."
      ]
    },
    {
      "cell_type": "code",
      "execution_count": 39,
      "id": "1929362c-47ed-47cb-baca-358b78d401a0",
      "metadata": {
        "id": "1929362c-47ed-47cb-baca-358b78d401a0"
      },
      "outputs": [
        {
          "data": {
            "text/plain": [
              "0"
            ]
          },
          "execution_count": 39,
          "metadata": {},
          "output_type": "execute_result"
        }
      ],
      "source": [
        "df.duplicated().sum() #no hay duplicados"
      ]
    },
    {
      "cell_type": "code",
      "execution_count": 40,
      "id": "d4ee1830",
      "metadata": {},
      "outputs": [
        {
          "data": {
            "text/plain": [
              "False"
            ]
          },
          "execution_count": 40,
          "metadata": {},
          "output_type": "execute_result"
        }
      ],
      "source": [
        "df.duplicated().any() #no tengo ningun repetido"
      ]
    },
    {
      "cell_type": "code",
      "execution_count": 41,
      "id": "9e0ff0c4",
      "metadata": {},
      "outputs": [
        {
          "data": {
            "text/html": [
              "<div>\n",
              "<style scoped>\n",
              "    .dataframe tbody tr th:only-of-type {\n",
              "        vertical-align: middle;\n",
              "    }\n",
              "\n",
              "    .dataframe tbody tr th {\n",
              "        vertical-align: top;\n",
              "    }\n",
              "\n",
              "    .dataframe thead th {\n",
              "        text-align: right;\n",
              "    }\n",
              "</style>\n",
              "<table border=\"1\" class=\"dataframe\">\n",
              "  <thead>\n",
              "    <tr style=\"text-align: right;\">\n",
              "      <th></th>\n",
              "      <th>customer</th>\n",
              "      <th>state</th>\n",
              "      <th>gender</th>\n",
              "      <th>education</th>\n",
              "      <th>customer_lifetime_value</th>\n",
              "      <th>income</th>\n",
              "      <th>monthly_premium_auto</th>\n",
              "      <th>number_of_open_complaints</th>\n",
              "      <th>policy_type</th>\n",
              "      <th>vehicle_class</th>\n",
              "      <th>total_claim_amount</th>\n",
              "    </tr>\n",
              "  </thead>\n",
              "  <tbody>\n",
              "    <tr>\n",
              "      <th>0</th>\n",
              "      <td>RB50392</td>\n",
              "      <td>Washington</td>\n",
              "      <td>F</td>\n",
              "      <td>Master</td>\n",
              "      <td>7.936903e+05</td>\n",
              "      <td>0.0</td>\n",
              "      <td>1000.0</td>\n",
              "      <td>0.0</td>\n",
              "      <td>Personal Auto</td>\n",
              "      <td>Four-Door Car</td>\n",
              "      <td>2.704934</td>\n",
              "    </tr>\n",
              "    <tr>\n",
              "      <th>1</th>\n",
              "      <td>QZ44356</td>\n",
              "      <td>Arizona</td>\n",
              "      <td>F</td>\n",
              "      <td>Bachelor</td>\n",
              "      <td>6.979536e+05</td>\n",
              "      <td>0.0</td>\n",
              "      <td>94.0</td>\n",
              "      <td>0.0</td>\n",
              "      <td>Personal Auto</td>\n",
              "      <td>Four-Door Car</td>\n",
              "      <td>1131.464935</td>\n",
              "    </tr>\n",
              "    <tr>\n",
              "      <th>2</th>\n",
              "      <td>AI49188</td>\n",
              "      <td>Nevada</td>\n",
              "      <td>F</td>\n",
              "      <td>Bachelor</td>\n",
              "      <td>1.288743e+06</td>\n",
              "      <td>48767.0</td>\n",
              "      <td>108.0</td>\n",
              "      <td>0.0</td>\n",
              "      <td>Personal Auto</td>\n",
              "      <td>Two-Door Car</td>\n",
              "      <td>566.472247</td>\n",
              "    </tr>\n",
              "    <tr>\n",
              "      <th>3</th>\n",
              "      <td>WW63253</td>\n",
              "      <td>California</td>\n",
              "      <td>M</td>\n",
              "      <td>Bachelor</td>\n",
              "      <td>7.645862e+05</td>\n",
              "      <td>0.0</td>\n",
              "      <td>106.0</td>\n",
              "      <td>0.0</td>\n",
              "      <td>Corporate Auto</td>\n",
              "      <td>SUV</td>\n",
              "      <td>529.881344</td>\n",
              "    </tr>\n",
              "    <tr>\n",
              "      <th>4</th>\n",
              "      <td>GA49547</td>\n",
              "      <td>Washington</td>\n",
              "      <td>M</td>\n",
              "      <td>High School or Below</td>\n",
              "      <td>5.363077e+05</td>\n",
              "      <td>36357.0</td>\n",
              "      <td>68.0</td>\n",
              "      <td>0.0</td>\n",
              "      <td>Personal Auto</td>\n",
              "      <td>Four-Door Car</td>\n",
              "      <td>17.269323</td>\n",
              "    </tr>\n",
              "  </tbody>\n",
              "</table>\n",
              "</div>"
            ],
            "text/plain": [
              "  customer       state gender             education  customer_lifetime_value  \\\n",
              "0  RB50392  Washington      F                Master             7.936903e+05   \n",
              "1  QZ44356     Arizona      F              Bachelor             6.979536e+05   \n",
              "2  AI49188      Nevada      F              Bachelor             1.288743e+06   \n",
              "3  WW63253  California      M              Bachelor             7.645862e+05   \n",
              "4  GA49547  Washington      M  High School or Below             5.363077e+05   \n",
              "\n",
              "    income  monthly_premium_auto  number_of_open_complaints     policy_type  \\\n",
              "0      0.0                1000.0                        0.0   Personal Auto   \n",
              "1      0.0                  94.0                        0.0   Personal Auto   \n",
              "2  48767.0                 108.0                        0.0   Personal Auto   \n",
              "3      0.0                 106.0                        0.0  Corporate Auto   \n",
              "4  36357.0                  68.0                        0.0   Personal Auto   \n",
              "\n",
              "   vehicle_class  total_claim_amount  \n",
              "0  Four-Door Car            2.704934  \n",
              "1  Four-Door Car         1131.464935  \n",
              "2   Two-Door Car          566.472247  \n",
              "3            SUV          529.881344  \n",
              "4  Four-Door Car           17.269323  "
            ]
          },
          "execution_count": 41,
          "metadata": {},
          "output_type": "execute_result"
        }
      ],
      "source": [
        "df.head()"
      ]
    },
    {
      "cell_type": "code",
      "execution_count": 42,
      "id": "263dd103",
      "metadata": {},
      "outputs": [],
      "source": [
        "#df = df.drop_duplicates(keep='first').reset_index(drop=True)"
      ]
    },
    {
      "cell_type": "code",
      "execution_count": 43,
      "id": "54be6d15",
      "metadata": {},
      "outputs": [
        {
          "data": {
            "text/plain": [
              "17"
            ]
          },
          "execution_count": 43,
          "metadata": {},
          "output_type": "execute_result"
        }
      ],
      "source": [
        "#Como aqui lo mas interesante es el estado, income,customer_lifetime_value \n",
        "\n",
        "df.duplicated(subset=[\"state\", \"income\", \"customer_lifetime_value\"]).sum() #hay 17"
      ]
    },
    {
      "cell_type": "code",
      "execution_count": 44,
      "id": "736fd53d",
      "metadata": {},
      "outputs": [],
      "source": [
        "#Nos vamos a quedar con el ultimo de esos \n",
        "\n",
        "df.drop_duplicates(subset=[\"state\", \"income\", \"customer_lifetime_value\"], keep=\"last\", inplace=True)"
      ]
    },
    {
      "cell_type": "code",
      "execution_count": 45,
      "id": "d8ba1597",
      "metadata": {},
      "outputs": [],
      "source": [
        "df.duplicated(subset=[\"state\", \"income\", \"customer_lifetime_value\"]).sum() #ya hay 0\n",
        "df.reset_index(drop=True, inplace=True)"
      ]
    },
    {
      "cell_type": "code",
      "execution_count": 46,
      "id": "21092855",
      "metadata": {},
      "outputs": [],
      "source": [
        "df.to_csv('cleaned_dataset.csv', index=True)"
      ]
    },
    {
      "cell_type": "markdown",
      "id": "60840701-4783-40e2-b4d8-55303f9100c9",
      "metadata": {
        "id": "60840701-4783-40e2-b4d8-55303f9100c9"
      },
      "source": [
        "# Bonus: Challenge 2: creating functions on a separate `py` file"
      ]
    },
    {
      "cell_type": "markdown",
      "id": "9d1adb3a-17cf-4899-8041-da21a4337fb4",
      "metadata": {
        "id": "9d1adb3a-17cf-4899-8041-da21a4337fb4"
      },
      "source": [
        "Put all the data cleaning and formatting steps into functions, and create a main function that performs all the cleaning and formatting.\n",
        "\n",
        "Write these functions in separate .py file(s). By putting these steps into functions, we can make the code more modular and easier to maintain."
      ]
    },
    {
      "cell_type": "markdown",
      "id": "0e170dc2-b62c-417a-8248-e63ed18a70c4",
      "metadata": {
        "id": "0e170dc2-b62c-417a-8248-e63ed18a70c4"
      },
      "source": [
        "*Hint: autoreload module is a utility module in Python that allows you to automatically reload modules in the current session when changes are made to the source code. This can be useful in situations where you are actively developing code and want to see the effects of changes you make without having to constantly restart the Python interpreter or Jupyter Notebook kernel.*"
      ]
    },
    {
      "cell_type": "code",
      "execution_count": 8,
      "id": "0092036e",
      "metadata": {},
      "outputs": [],
      "source": [
        "import functions as f"
      ]
    },
    {
      "cell_type": "code",
      "execution_count": 12,
      "id": "a52c6dfc-cd11-4d01-bda4-f719fa33e9a4",
      "metadata": {
        "id": "a52c6dfc-cd11-4d01-bda4-f719fa33e9a4"
      },
      "outputs": [
        {
          "name": "stdout",
          "output_type": "stream",
          "text": [
            "Hay 0 valores duplicados\n",
            "De las columnas `state`, `income` y `customer_lifetime_value` hay 17 valores duplicados\n"
          ]
        },
        {
          "name": "stderr",
          "output_type": "stream",
          "text": [
            "c:\\Users\\Carlota\\OneDrive\\Documentos\\Bootcamp Data Analysis\\Python\\__pycache__\\lab-dw-data-cleaning-and-formatting\\functions.py:79: FutureWarning: Series.fillna with 'method' is deprecated and will raise in a future version. Use obj.ffill() or obj.bfill() instead.\n",
            "  df['gender'].fillna(method='bfill', inplace=True)\n"
          ]
        }
      ],
      "source": [
        "#import functions as f\n",
        "\n",
        "df_py = f.cargar_fichero(url)\n",
        "df_py.head()\n",
        "\n",
        "# cambiar nombre de las columnas\n",
        "\n",
        "df_py = f.change_cols_names(df_py)\n",
        "df_py.columns\n",
        "\n",
        "# cleaning invalid values\n",
        "\n",
        "df_py = f.cleaning_invalid_Value(df_py)\n",
        "df_py['gender'].unique()\n",
        "\n",
        "\n",
        "# correct format\n",
        "df_py = f.change_type(df_py)\n",
        "df_py['customer_lifetime_value']\n",
        "\n",
        "#eliminar valores nulos\n",
        "\n",
        "df_py = f.drop_null_values(df_py)\n",
        "df_py = f.replace_null(df_py)\n",
        "df_py.isna().sum()\n",
        "\n",
        "# duplicados\n",
        "\n",
        "df_py = f.duplicates(df_py)"
      ]
    },
    {
      "cell_type": "markdown",
      "id": "80f846bb-3f5e-4ca2-96c0-900728daca5a",
      "metadata": {
        "id": "80f846bb-3f5e-4ca2-96c0-900728daca5a",
        "tags": []
      },
      "source": [
        "# Bonus: Challenge 3: Analyzing Clean and Formated Data"
      ]
    },
    {
      "cell_type": "markdown",
      "id": "9021630e-cc90-446c-b5bd-264d6c864207",
      "metadata": {
        "id": "9021630e-cc90-446c-b5bd-264d6c864207"
      },
      "source": [
        "You have been tasked with analyzing the data to identify potential areas for improving customer retention and profitability. Your goal is to identify customers with a high policy claim amount and a low customer lifetime value.\n",
        "\n",
        "In the Pandas Lab, we only looked at high policy claim amounts because we couldn't look into low customer lifetime values. If we had tried to work with that column, we wouldn't have been able to because customer lifetime value wasn't clean and in its proper format. So after cleaning and formatting the data, let's get some more interesting insights!\n",
        "\n",
        "Instructions:\n",
        "\n",
        "- Review the statistics again for total claim amount and customer lifetime value to gain an understanding of the data.\n",
        "- To identify potential areas for improving customer retention and profitability, we want to focus on customers with a high policy claim amount and a low customer lifetime value. Consider customers with a high policy claim amount to be those in the top 25% of the total claim amount, and clients with a low customer lifetime value to be those in the bottom 25% of the customer lifetime value. Create a pandas DataFrame object that contains information about customers with a policy claim amount greater than the 75th percentile and a customer lifetime value in the bottom 25th percentile.\n",
        "- Use DataFrame methods to calculate summary statistics about the high policy claim amount and low customer lifetime value data. To do so, select both columns of the dataframe simultaneously and pass it to the `.describe()` method. This will give you descriptive statistics, such as mean, median, standard deviation, minimum and maximum values for both columns at the same time, allowing you to compare and analyze their characteristics."
      ]
    },
    {
      "cell_type": "code",
      "execution_count": 191,
      "id": "211e82b5-461a-4d6f-8a23-4deccb84173c",
      "metadata": {
        "id": "211e82b5-461a-4d6f-8a23-4deccb84173c"
      },
      "outputs": [
        {
          "data": {
            "text/html": [
              "<div>\n",
              "<style scoped>\n",
              "    .dataframe tbody tr th:only-of-type {\n",
              "        vertical-align: middle;\n",
              "    }\n",
              "\n",
              "    .dataframe tbody tr th {\n",
              "        vertical-align: top;\n",
              "    }\n",
              "\n",
              "    .dataframe thead th {\n",
              "        text-align: right;\n",
              "    }\n",
              "</style>\n",
              "<table border=\"1\" class=\"dataframe\">\n",
              "  <thead>\n",
              "    <tr style=\"text-align: right;\">\n",
              "      <th></th>\n",
              "      <th>customer_lifetime_value</th>\n",
              "      <th>income</th>\n",
              "      <th>monthly_premium_auto</th>\n",
              "      <th>number_of_open_complaints</th>\n",
              "      <th>total_claim_amount</th>\n",
              "    </tr>\n",
              "  </thead>\n",
              "  <tbody>\n",
              "    <tr>\n",
              "      <th>count</th>\n",
              "      <td>1.071000e+03</td>\n",
              "      <td>1071.000000</td>\n",
              "      <td>1071.000000</td>\n",
              "      <td>1071.000000</td>\n",
              "      <td>1071.000000</td>\n",
              "    </tr>\n",
              "    <tr>\n",
              "      <th>mean</th>\n",
              "      <td>7.936903e+05</td>\n",
              "      <td>39295.701214</td>\n",
              "      <td>193.234360</td>\n",
              "      <td>0.394024</td>\n",
              "      <td>404.986909</td>\n",
              "    </tr>\n",
              "    <tr>\n",
              "      <th>std</th>\n",
              "      <td>6.425757e+05</td>\n",
              "      <td>30469.427060</td>\n",
              "      <td>1601.190369</td>\n",
              "      <td>0.883769</td>\n",
              "      <td>293.027260</td>\n",
              "    </tr>\n",
              "    <tr>\n",
              "      <th>min</th>\n",
              "      <td>2.004351e+05</td>\n",
              "      <td>0.000000</td>\n",
              "      <td>61.000000</td>\n",
              "      <td>0.000000</td>\n",
              "      <td>0.382107</td>\n",
              "    </tr>\n",
              "    <tr>\n",
              "      <th>25%</th>\n",
              "      <td>4.048535e+05</td>\n",
              "      <td>14072.000000</td>\n",
              "      <td>68.000000</td>\n",
              "      <td>0.000000</td>\n",
              "      <td>202.157702</td>\n",
              "    </tr>\n",
              "    <tr>\n",
              "      <th>50%</th>\n",
              "      <td>5.887182e+05</td>\n",
              "      <td>36234.000000</td>\n",
              "      <td>83.000000</td>\n",
              "      <td>0.000000</td>\n",
              "      <td>354.729129</td>\n",
              "    </tr>\n",
              "    <tr>\n",
              "      <th>75%</th>\n",
              "      <td>8.945210e+05</td>\n",
              "      <td>64631.000000</td>\n",
              "      <td>109.500000</td>\n",
              "      <td>0.000000</td>\n",
              "      <td>532.800000</td>\n",
              "    </tr>\n",
              "    <tr>\n",
              "      <th>max</th>\n",
              "      <td>5.816655e+06</td>\n",
              "      <td>99960.000000</td>\n",
              "      <td>35354.000000</td>\n",
              "      <td>5.000000</td>\n",
              "      <td>2893.239678</td>\n",
              "    </tr>\n",
              "  </tbody>\n",
              "</table>\n",
              "</div>"
            ],
            "text/plain": [
              "       customer_lifetime_value        income  monthly_premium_auto  \\\n",
              "count             1.071000e+03   1071.000000           1071.000000   \n",
              "mean              7.936903e+05  39295.701214            193.234360   \n",
              "std               6.425757e+05  30469.427060           1601.190369   \n",
              "min               2.004351e+05      0.000000             61.000000   \n",
              "25%               4.048535e+05  14072.000000             68.000000   \n",
              "50%               5.887182e+05  36234.000000             83.000000   \n",
              "75%               8.945210e+05  64631.000000            109.500000   \n",
              "max               5.816655e+06  99960.000000          35354.000000   \n",
              "\n",
              "       number_of_open_complaints  total_claim_amount  \n",
              "count                1071.000000         1071.000000  \n",
              "mean                    0.394024          404.986909  \n",
              "std                     0.883769          293.027260  \n",
              "min                     0.000000            0.382107  \n",
              "25%                     0.000000          202.157702  \n",
              "50%                     0.000000          354.729129  \n",
              "75%                     0.000000          532.800000  \n",
              "max                     5.000000         2893.239678  "
            ]
          },
          "execution_count": 191,
          "metadata": {},
          "output_type": "execute_result"
        }
      ],
      "source": [
        "df.describe()"
      ]
    },
    {
      "cell_type": "code",
      "execution_count": 193,
      "id": "d13025d9",
      "metadata": {},
      "outputs": [],
      "source": [
        "import numpy as np"
      ]
    },
    {
      "cell_type": "code",
      "execution_count": 199,
      "id": "ee9625ed",
      "metadata": {},
      "outputs": [],
      "source": [
        "quantile_75_claim = df['total_claim_amount'].quantile(0.75)\n",
        "quantile_25_claim = df['total_claim_amount'].quantile(0.25)\n",
        "quantil_25 = df['customer_lifetime_value'].quantile(0.25)"
      ]
    },
    {
      "cell_type": "markdown",
      "id": "0863c4a7",
      "metadata": {},
      "source": [
        "- To identify potential areas for improving customer retention and profitability, we want to focus on customers with a high policy claim amount and a low customer lifetime value. Consider customers with a high policy claim amount to be those in the top 25% of the total claim amount, and clients with a low customer lifetime value to be those in the bottom 25% of the customer lifetime value. Create a pandas DataFrame object that contains information about customers with a policy claim amount greater than the 75th percentile and a customer lifetime value in the bottom 25th percentile."
      ]
    },
    {
      "cell_type": "code",
      "execution_count": 204,
      "id": "996090df",
      "metadata": {},
      "outputs": [
        {
          "data": {
            "text/html": [
              "<div>\n",
              "<style scoped>\n",
              "    .dataframe tbody tr th:only-of-type {\n",
              "        vertical-align: middle;\n",
              "    }\n",
              "\n",
              "    .dataframe tbody tr th {\n",
              "        vertical-align: top;\n",
              "    }\n",
              "\n",
              "    .dataframe thead th {\n",
              "        text-align: right;\n",
              "    }\n",
              "</style>\n",
              "<table border=\"1\" class=\"dataframe\">\n",
              "  <thead>\n",
              "    <tr style=\"text-align: right;\">\n",
              "      <th></th>\n",
              "      <th>customer</th>\n",
              "      <th>state</th>\n",
              "      <th>gender</th>\n",
              "      <th>education</th>\n",
              "      <th>customer_lifetime_value</th>\n",
              "      <th>income</th>\n",
              "      <th>monthly_premium_auto</th>\n",
              "      <th>number_of_open_complaints</th>\n",
              "      <th>policy_type</th>\n",
              "      <th>vehicle_class</th>\n",
              "      <th>total_claim_amount</th>\n",
              "    </tr>\n",
              "  </thead>\n",
              "  <tbody>\n",
              "    <tr>\n",
              "      <th>17</th>\n",
              "      <td>OE15005</td>\n",
              "      <td>California</td>\n",
              "      <td>M</td>\n",
              "      <td>College</td>\n",
              "      <td>394524.16</td>\n",
              "      <td>28855.0</td>\n",
              "      <td>101.0</td>\n",
              "      <td>0.0</td>\n",
              "      <td>Personal Auto</td>\n",
              "      <td>SUV</td>\n",
              "      <td>647.442031</td>\n",
              "    </tr>\n",
              "    <tr>\n",
              "      <th>23</th>\n",
              "      <td>TZ98966</td>\n",
              "      <td>Nevada</td>\n",
              "      <td>M</td>\n",
              "      <td>Bachelor</td>\n",
              "      <td>245019.10</td>\n",
              "      <td>0.0</td>\n",
              "      <td>73.0</td>\n",
              "      <td>3.0</td>\n",
              "      <td>Corporate Auto</td>\n",
              "      <td>Four-Door Car</td>\n",
              "      <td>554.376763</td>\n",
              "    </tr>\n",
              "    <tr>\n",
              "      <th>26</th>\n",
              "      <td>US89481</td>\n",
              "      <td>California</td>\n",
              "      <td>M</td>\n",
              "      <td>Bachelor</td>\n",
              "      <td>394637.21</td>\n",
              "      <td>0.0</td>\n",
              "      <td>111.0</td>\n",
              "      <td>0.0</td>\n",
              "      <td>Personal Auto</td>\n",
              "      <td>Four-Door Car</td>\n",
              "      <td>799.200000</td>\n",
              "    </tr>\n",
              "    <tr>\n",
              "      <th>38</th>\n",
              "      <td>CM61827</td>\n",
              "      <td>Oregon</td>\n",
              "      <td>F</td>\n",
              "      <td>Bachelor</td>\n",
              "      <td>309003.41</td>\n",
              "      <td>0.0</td>\n",
              "      <td>90.0</td>\n",
              "      <td>0.0</td>\n",
              "      <td>Personal Auto</td>\n",
              "      <td>Two-Door Car</td>\n",
              "      <td>648.000000</td>\n",
              "    </tr>\n",
              "    <tr>\n",
              "      <th>42</th>\n",
              "      <td>IL19217</td>\n",
              "      <td>California</td>\n",
              "      <td>F</td>\n",
              "      <td>Bachelor</td>\n",
              "      <td>393900.64</td>\n",
              "      <td>60021.0</td>\n",
              "      <td>99.0</td>\n",
              "      <td>0.0</td>\n",
              "      <td>Personal Auto</td>\n",
              "      <td>Four-Door Car</td>\n",
              "      <td>882.871945</td>\n",
              "    </tr>\n",
              "    <tr>\n",
              "      <th>62</th>\n",
              "      <td>FG63582</td>\n",
              "      <td>Oregon</td>\n",
              "      <td>F</td>\n",
              "      <td>Bachelor</td>\n",
              "      <td>333976.49</td>\n",
              "      <td>0.0</td>\n",
              "      <td>94.0</td>\n",
              "      <td>0.0</td>\n",
              "      <td>Personal Auto</td>\n",
              "      <td>Two-Door Car</td>\n",
              "      <td>863.327324</td>\n",
              "    </tr>\n",
              "    <tr>\n",
              "      <th>135</th>\n",
              "      <td>MS41162</td>\n",
              "      <td>Arizona</td>\n",
              "      <td>F</td>\n",
              "      <td>High School or Below</td>\n",
              "      <td>402296.35</td>\n",
              "      <td>0.0</td>\n",
              "      <td>117.0</td>\n",
              "      <td>0.0</td>\n",
              "      <td>Personal Auto</td>\n",
              "      <td>SUV</td>\n",
              "      <td>975.107098</td>\n",
              "    </tr>\n",
              "    <tr>\n",
              "      <th>140</th>\n",
              "      <td>DS81757</td>\n",
              "      <td>Oregon</td>\n",
              "      <td>M</td>\n",
              "      <td>College</td>\n",
              "      <td>247012.12</td>\n",
              "      <td>0.0</td>\n",
              "      <td>74.0</td>\n",
              "      <td>0.0</td>\n",
              "      <td>Personal Auto</td>\n",
              "      <td>Two-Door Car</td>\n",
              "      <td>721.242206</td>\n",
              "    </tr>\n",
              "    <tr>\n",
              "      <th>158</th>\n",
              "      <td>KA61892</td>\n",
              "      <td>Arizona</td>\n",
              "      <td>M</td>\n",
              "      <td>College</td>\n",
              "      <td>387364.70</td>\n",
              "      <td>28142.0</td>\n",
              "      <td>105.0</td>\n",
              "      <td>0.0</td>\n",
              "      <td>Personal Auto</td>\n",
              "      <td>Luxury</td>\n",
              "      <td>701.708239</td>\n",
              "    </tr>\n",
              "    <tr>\n",
              "      <th>160</th>\n",
              "      <td>ND87334</td>\n",
              "      <td>California</td>\n",
              "      <td>M</td>\n",
              "      <td>High School or Below</td>\n",
              "      <td>228759.69</td>\n",
              "      <td>0.0</td>\n",
              "      <td>63.0</td>\n",
              "      <td>0.0</td>\n",
              "      <td>Corporate Auto</td>\n",
              "      <td>Two-Door Car</td>\n",
              "      <td>679.368378</td>\n",
              "    </tr>\n",
              "    <tr>\n",
              "      <th>170</th>\n",
              "      <td>TS19868</td>\n",
              "      <td>California</td>\n",
              "      <td>M</td>\n",
              "      <td>College</td>\n",
              "      <td>241313.97</td>\n",
              "      <td>27501.0</td>\n",
              "      <td>63.0</td>\n",
              "      <td>0.0</td>\n",
              "      <td>Personal Auto</td>\n",
              "      <td>Four-Door Car</td>\n",
              "      <td>542.319401</td>\n",
              "    </tr>\n",
              "    <tr>\n",
              "      <th>184</th>\n",
              "      <td>AB13432</td>\n",
              "      <td>California</td>\n",
              "      <td>M</td>\n",
              "      <td>Bachelor</td>\n",
              "      <td>373583.81</td>\n",
              "      <td>0.0</td>\n",
              "      <td>110.0</td>\n",
              "      <td>0.0</td>\n",
              "      <td>Personal Auto</td>\n",
              "      <td>SUV</td>\n",
              "      <td>792.000000</td>\n",
              "    </tr>\n",
              "    <tr>\n",
              "      <th>204</th>\n",
              "      <td>FL34139</td>\n",
              "      <td>California</td>\n",
              "      <td>M</td>\n",
              "      <td>High School or Below</td>\n",
              "      <td>368811.09</td>\n",
              "      <td>0.0</td>\n",
              "      <td>63.0</td>\n",
              "      <td>3.0</td>\n",
              "      <td>Personal Auto</td>\n",
              "      <td>Four-Door Car</td>\n",
              "      <td>669.682001</td>\n",
              "    </tr>\n",
              "    <tr>\n",
              "      <th>250</th>\n",
              "      <td>IA63417</td>\n",
              "      <td>Arizona</td>\n",
              "      <td>F</td>\n",
              "      <td>High School or Below</td>\n",
              "      <td>400151.91</td>\n",
              "      <td>19782.0</td>\n",
              "      <td>108.0</td>\n",
              "      <td>0.0</td>\n",
              "      <td>Personal Auto</td>\n",
              "      <td>Two-Door Car</td>\n",
              "      <td>773.470977</td>\n",
              "    </tr>\n",
              "    <tr>\n",
              "      <th>269</th>\n",
              "      <td>VZ51506</td>\n",
              "      <td>Arizona</td>\n",
              "      <td>F</td>\n",
              "      <td>High School or Below</td>\n",
              "      <td>359531.29</td>\n",
              "      <td>0.0</td>\n",
              "      <td>103.0</td>\n",
              "      <td>0.0</td>\n",
              "      <td>Corporate Auto</td>\n",
              "      <td>Luxury</td>\n",
              "      <td>741.600000</td>\n",
              "    </tr>\n",
              "    <tr>\n",
              "      <th>279</th>\n",
              "      <td>OH60605</td>\n",
              "      <td>Oregon</td>\n",
              "      <td>F</td>\n",
              "      <td>High School or Below</td>\n",
              "      <td>365253.24</td>\n",
              "      <td>39679.0</td>\n",
              "      <td>92.0</td>\n",
              "      <td>0.0</td>\n",
              "      <td>Personal Auto</td>\n",
              "      <td>Two-Door Car</td>\n",
              "      <td>641.388616</td>\n",
              "    </tr>\n",
              "    <tr>\n",
              "      <th>304</th>\n",
              "      <td>RR77985</td>\n",
              "      <td>Oregon</td>\n",
              "      <td>F</td>\n",
              "      <td>Bachelor</td>\n",
              "      <td>288774.23</td>\n",
              "      <td>0.0</td>\n",
              "      <td>80.0</td>\n",
              "      <td>0.0</td>\n",
              "      <td>Personal Auto</td>\n",
              "      <td>Four-Door Car</td>\n",
              "      <td>676.944023</td>\n",
              "    </tr>\n",
              "    <tr>\n",
              "      <th>388</th>\n",
              "      <td>JF36291</td>\n",
              "      <td>California</td>\n",
              "      <td>M</td>\n",
              "      <td>College</td>\n",
              "      <td>387364.70</td>\n",
              "      <td>28142.0</td>\n",
              "      <td>105.0</td>\n",
              "      <td>0.0</td>\n",
              "      <td>Personal Auto</td>\n",
              "      <td>Luxury</td>\n",
              "      <td>701.708239</td>\n",
              "    </tr>\n",
              "    <tr>\n",
              "      <th>415</th>\n",
              "      <td>ZF84449</td>\n",
              "      <td>Oregon</td>\n",
              "      <td>F</td>\n",
              "      <td>College</td>\n",
              "      <td>372672.80</td>\n",
              "      <td>0.0</td>\n",
              "      <td>112.0</td>\n",
              "      <td>1.0</td>\n",
              "      <td>Special Auto</td>\n",
              "      <td>Luxury</td>\n",
              "      <td>806.400000</td>\n",
              "    </tr>\n",
              "    <tr>\n",
              "      <th>448</th>\n",
              "      <td>NL93182</td>\n",
              "      <td>Nevada</td>\n",
              "      <td>M</td>\n",
              "      <td>Bachelor</td>\n",
              "      <td>254945.00</td>\n",
              "      <td>0.0</td>\n",
              "      <td>78.0</td>\n",
              "      <td>0.0</td>\n",
              "      <td>Corporate Auto</td>\n",
              "      <td>Four-Door Car</td>\n",
              "      <td>845.654042</td>\n",
              "    </tr>\n",
              "    <tr>\n",
              "      <th>450</th>\n",
              "      <td>WE68644</td>\n",
              "      <td>Oregon</td>\n",
              "      <td>F</td>\n",
              "      <td>Bachelor</td>\n",
              "      <td>380392.18</td>\n",
              "      <td>20325.0</td>\n",
              "      <td>100.0</td>\n",
              "      <td>0.0</td>\n",
              "      <td>Personal Auto</td>\n",
              "      <td>Luxury</td>\n",
              "      <td>668.293970</td>\n",
              "    </tr>\n",
              "    <tr>\n",
              "      <th>467</th>\n",
              "      <td>AU96286</td>\n",
              "      <td>Oregon</td>\n",
              "      <td>F</td>\n",
              "      <td>Bachelor</td>\n",
              "      <td>316765.84</td>\n",
              "      <td>0.0</td>\n",
              "      <td>92.0</td>\n",
              "      <td>0.0</td>\n",
              "      <td>Corporate Auto</td>\n",
              "      <td>Four-Door Car</td>\n",
              "      <td>662.400000</td>\n",
              "    </tr>\n",
              "    <tr>\n",
              "      <th>486</th>\n",
              "      <td>FY51713</td>\n",
              "      <td>Arizona</td>\n",
              "      <td>F</td>\n",
              "      <td>Bachelor</td>\n",
              "      <td>357076.05</td>\n",
              "      <td>56168.0</td>\n",
              "      <td>88.0</td>\n",
              "      <td>0.0</td>\n",
              "      <td>Personal Auto</td>\n",
              "      <td>Four-Door Car</td>\n",
              "      <td>614.675906</td>\n",
              "    </tr>\n",
              "    <tr>\n",
              "      <th>500</th>\n",
              "      <td>XN11823</td>\n",
              "      <td>Nevada</td>\n",
              "      <td>F</td>\n",
              "      <td>Bachelor</td>\n",
              "      <td>376446.51</td>\n",
              "      <td>92600.0</td>\n",
              "      <td>94.0</td>\n",
              "      <td>0.0</td>\n",
              "      <td>Corporate Auto</td>\n",
              "      <td>Two-Door Car</td>\n",
              "      <td>842.437850</td>\n",
              "    </tr>\n",
              "    <tr>\n",
              "      <th>502</th>\n",
              "      <td>PX17116</td>\n",
              "      <td>Nevada</td>\n",
              "      <td>M</td>\n",
              "      <td>College</td>\n",
              "      <td>362345.42</td>\n",
              "      <td>0.0</td>\n",
              "      <td>111.0</td>\n",
              "      <td>2.0</td>\n",
              "      <td>Corporate Auto</td>\n",
              "      <td>SUV</td>\n",
              "      <td>1171.931170</td>\n",
              "    </tr>\n",
              "    <tr>\n",
              "      <th>565</th>\n",
              "      <td>XS12556</td>\n",
              "      <td>California</td>\n",
              "      <td>F</td>\n",
              "      <td>College</td>\n",
              "      <td>368309.99</td>\n",
              "      <td>0.0</td>\n",
              "      <td>101.0</td>\n",
              "      <td>0.0</td>\n",
              "      <td>Corporate Auto</td>\n",
              "      <td>Luxury</td>\n",
              "      <td>564.466556</td>\n",
              "    </tr>\n",
              "    <tr>\n",
              "      <th>590</th>\n",
              "      <td>UK41984</td>\n",
              "      <td>Arizona</td>\n",
              "      <td>F</td>\n",
              "      <td>Doctor</td>\n",
              "      <td>383960.61</td>\n",
              "      <td>0.0</td>\n",
              "      <td>112.0</td>\n",
              "      <td>2.0</td>\n",
              "      <td>Personal Auto</td>\n",
              "      <td>SUV</td>\n",
              "      <td>537.600000</td>\n",
              "    </tr>\n",
              "    <tr>\n",
              "      <th>593</th>\n",
              "      <td>ZK21724</td>\n",
              "      <td>Oregon</td>\n",
              "      <td>F</td>\n",
              "      <td>High School or Below</td>\n",
              "      <td>401654.20</td>\n",
              "      <td>0.0</td>\n",
              "      <td>111.0</td>\n",
              "      <td>0.0</td>\n",
              "      <td>Personal Auto</td>\n",
              "      <td>SUV</td>\n",
              "      <td>799.200000</td>\n",
              "    </tr>\n",
              "    <tr>\n",
              "      <th>638</th>\n",
              "      <td>DM95829</td>\n",
              "      <td>California</td>\n",
              "      <td>M</td>\n",
              "      <td>College</td>\n",
              "      <td>252395.96</td>\n",
              "      <td>16244.0</td>\n",
              "      <td>68.0</td>\n",
              "      <td>0.0</td>\n",
              "      <td>Personal Auto</td>\n",
              "      <td>Two-Door Car</td>\n",
              "      <td>623.223617</td>\n",
              "    </tr>\n",
              "    <tr>\n",
              "      <th>645</th>\n",
              "      <td>JA41698</td>\n",
              "      <td>Nevada</td>\n",
              "      <td>M</td>\n",
              "      <td>Bachelor</td>\n",
              "      <td>309953.80</td>\n",
              "      <td>0.0</td>\n",
              "      <td>102.0</td>\n",
              "      <td>5.0</td>\n",
              "      <td>Corporate Auto</td>\n",
              "      <td>SUV</td>\n",
              "      <td>862.762957</td>\n",
              "    </tr>\n",
              "    <tr>\n",
              "      <th>669</th>\n",
              "      <td>ED50963</td>\n",
              "      <td>California</td>\n",
              "      <td>F</td>\n",
              "      <td>High School or Below</td>\n",
              "      <td>268886.40</td>\n",
              "      <td>32808.0</td>\n",
              "      <td>68.0</td>\n",
              "      <td>1.0</td>\n",
              "      <td>Personal Auto</td>\n",
              "      <td>Four-Door Car</td>\n",
              "      <td>541.695658</td>\n",
              "    </tr>\n",
              "    <tr>\n",
              "      <th>709</th>\n",
              "      <td>NZ15548</td>\n",
              "      <td>Oregon</td>\n",
              "      <td>M</td>\n",
              "      <td>Bachelor</td>\n",
              "      <td>402381.44</td>\n",
              "      <td>41833.0</td>\n",
              "      <td>103.0</td>\n",
              "      <td>0.0</td>\n",
              "      <td>Personal Auto</td>\n",
              "      <td>Four-Door Car</td>\n",
              "      <td>643.826716</td>\n",
              "    </tr>\n",
              "    <tr>\n",
              "      <th>788</th>\n",
              "      <td>TE13577</td>\n",
              "      <td>Oregon</td>\n",
              "      <td>F</td>\n",
              "      <td>College</td>\n",
              "      <td>231973.59</td>\n",
              "      <td>0.0</td>\n",
              "      <td>64.0</td>\n",
              "      <td>0.0</td>\n",
              "      <td>Personal Auto</td>\n",
              "      <td>Four-Door Car</td>\n",
              "      <td>632.715382</td>\n",
              "    </tr>\n",
              "    <tr>\n",
              "      <th>853</th>\n",
              "      <td>TV25678</td>\n",
              "      <td>Washington</td>\n",
              "      <td>M</td>\n",
              "      <td>College</td>\n",
              "      <td>354090.43</td>\n",
              "      <td>0.0</td>\n",
              "      <td>101.0</td>\n",
              "      <td>0.0</td>\n",
              "      <td>Personal Auto</td>\n",
              "      <td>SUV</td>\n",
              "      <td>727.200000</td>\n",
              "    </tr>\n",
              "    <tr>\n",
              "      <th>891</th>\n",
              "      <td>KJ87930</td>\n",
              "      <td>California</td>\n",
              "      <td>F</td>\n",
              "      <td>Bachelor</td>\n",
              "      <td>388650.48</td>\n",
              "      <td>0.0</td>\n",
              "      <td>112.0</td>\n",
              "      <td>0.0</td>\n",
              "      <td>Corporate Auto</td>\n",
              "      <td>SUV</td>\n",
              "      <td>1185.988301</td>\n",
              "    </tr>\n",
              "    <tr>\n",
              "      <th>908</th>\n",
              "      <td>XM72420</td>\n",
              "      <td>Arizona</td>\n",
              "      <td>F</td>\n",
              "      <td>High School or Below</td>\n",
              "      <td>391936.67</td>\n",
              "      <td>66676.0</td>\n",
              "      <td>97.0</td>\n",
              "      <td>0.0</td>\n",
              "      <td>Personal Auto</td>\n",
              "      <td>Four-Door Car</td>\n",
              "      <td>558.099357</td>\n",
              "    </tr>\n",
              "    <tr>\n",
              "      <th>949</th>\n",
              "      <td>TD10493</td>\n",
              "      <td>Oregon</td>\n",
              "      <td>F</td>\n",
              "      <td>High School or Below</td>\n",
              "      <td>289873.27</td>\n",
              "      <td>0.0</td>\n",
              "      <td>96.0</td>\n",
              "      <td>4.0</td>\n",
              "      <td>Personal Auto</td>\n",
              "      <td>Four-Door Car</td>\n",
              "      <td>691.200000</td>\n",
              "    </tr>\n",
              "    <tr>\n",
              "      <th>1019</th>\n",
              "      <td>OT52034</td>\n",
              "      <td>California</td>\n",
              "      <td>M</td>\n",
              "      <td>Bachelor</td>\n",
              "      <td>386477.68</td>\n",
              "      <td>24204.0</td>\n",
              "      <td>99.0</td>\n",
              "      <td>1.0</td>\n",
              "      <td>Personal Auto</td>\n",
              "      <td>Four-Door Car</td>\n",
              "      <td>707.303416</td>\n",
              "    </tr>\n",
              "    <tr>\n",
              "      <th>1022</th>\n",
              "      <td>UI73201</td>\n",
              "      <td>California</td>\n",
              "      <td>M</td>\n",
              "      <td>College</td>\n",
              "      <td>366737.50</td>\n",
              "      <td>62375.0</td>\n",
              "      <td>92.0</td>\n",
              "      <td>0.0</td>\n",
              "      <td>Personal Auto</td>\n",
              "      <td>Two-Door Car</td>\n",
              "      <td>618.630955</td>\n",
              "    </tr>\n",
              "    <tr>\n",
              "      <th>1068</th>\n",
              "      <td>GS98873</td>\n",
              "      <td>Arizona</td>\n",
              "      <td>F</td>\n",
              "      <td>Bachelor</td>\n",
              "      <td>323912.47</td>\n",
              "      <td>16061.0</td>\n",
              "      <td>88.0</td>\n",
              "      <td>0.0</td>\n",
              "      <td>Personal Auto</td>\n",
              "      <td>Four-Door Car</td>\n",
              "      <td>633.600000</td>\n",
              "    </tr>\n",
              "  </tbody>\n",
              "</table>\n",
              "</div>"
            ],
            "text/plain": [
              "     customer       state gender             education  \\\n",
              "17    OE15005  California      M               College   \n",
              "23    TZ98966      Nevada      M              Bachelor   \n",
              "26    US89481  California      M              Bachelor   \n",
              "38    CM61827      Oregon      F              Bachelor   \n",
              "42    IL19217  California      F              Bachelor   \n",
              "62    FG63582      Oregon      F              Bachelor   \n",
              "135   MS41162     Arizona      F  High School or Below   \n",
              "140   DS81757      Oregon      M               College   \n",
              "158   KA61892     Arizona      M               College   \n",
              "160   ND87334  California      M  High School or Below   \n",
              "170   TS19868  California      M               College   \n",
              "184   AB13432  California      M              Bachelor   \n",
              "204   FL34139  California      M  High School or Below   \n",
              "250   IA63417     Arizona      F  High School or Below   \n",
              "269   VZ51506     Arizona      F  High School or Below   \n",
              "279   OH60605      Oregon      F  High School or Below   \n",
              "304   RR77985      Oregon      F              Bachelor   \n",
              "388   JF36291  California      M               College   \n",
              "415   ZF84449      Oregon      F               College   \n",
              "448   NL93182      Nevada      M              Bachelor   \n",
              "450   WE68644      Oregon      F              Bachelor   \n",
              "467   AU96286      Oregon      F              Bachelor   \n",
              "486   FY51713     Arizona      F              Bachelor   \n",
              "500   XN11823      Nevada      F              Bachelor   \n",
              "502   PX17116      Nevada      M               College   \n",
              "565   XS12556  California      F               College   \n",
              "590   UK41984     Arizona      F                Doctor   \n",
              "593   ZK21724      Oregon      F  High School or Below   \n",
              "638   DM95829  California      M               College   \n",
              "645   JA41698      Nevada      M              Bachelor   \n",
              "669   ED50963  California      F  High School or Below   \n",
              "709   NZ15548      Oregon      M              Bachelor   \n",
              "788   TE13577      Oregon      F               College   \n",
              "853   TV25678  Washington      M               College   \n",
              "891   KJ87930  California      F              Bachelor   \n",
              "908   XM72420     Arizona      F  High School or Below   \n",
              "949   TD10493      Oregon      F  High School or Below   \n",
              "1019  OT52034  California      M              Bachelor   \n",
              "1022  UI73201  California      M               College   \n",
              "1068  GS98873     Arizona      F              Bachelor   \n",
              "\n",
              "      customer_lifetime_value   income  monthly_premium_auto  \\\n",
              "17                  394524.16  28855.0                 101.0   \n",
              "23                  245019.10      0.0                  73.0   \n",
              "26                  394637.21      0.0                 111.0   \n",
              "38                  309003.41      0.0                  90.0   \n",
              "42                  393900.64  60021.0                  99.0   \n",
              "62                  333976.49      0.0                  94.0   \n",
              "135                 402296.35      0.0                 117.0   \n",
              "140                 247012.12      0.0                  74.0   \n",
              "158                 387364.70  28142.0                 105.0   \n",
              "160                 228759.69      0.0                  63.0   \n",
              "170                 241313.97  27501.0                  63.0   \n",
              "184                 373583.81      0.0                 110.0   \n",
              "204                 368811.09      0.0                  63.0   \n",
              "250                 400151.91  19782.0                 108.0   \n",
              "269                 359531.29      0.0                 103.0   \n",
              "279                 365253.24  39679.0                  92.0   \n",
              "304                 288774.23      0.0                  80.0   \n",
              "388                 387364.70  28142.0                 105.0   \n",
              "415                 372672.80      0.0                 112.0   \n",
              "448                 254945.00      0.0                  78.0   \n",
              "450                 380392.18  20325.0                 100.0   \n",
              "467                 316765.84      0.0                  92.0   \n",
              "486                 357076.05  56168.0                  88.0   \n",
              "500                 376446.51  92600.0                  94.0   \n",
              "502                 362345.42      0.0                 111.0   \n",
              "565                 368309.99      0.0                 101.0   \n",
              "590                 383960.61      0.0                 112.0   \n",
              "593                 401654.20      0.0                 111.0   \n",
              "638                 252395.96  16244.0                  68.0   \n",
              "645                 309953.80      0.0                 102.0   \n",
              "669                 268886.40  32808.0                  68.0   \n",
              "709                 402381.44  41833.0                 103.0   \n",
              "788                 231973.59      0.0                  64.0   \n",
              "853                 354090.43      0.0                 101.0   \n",
              "891                 388650.48      0.0                 112.0   \n",
              "908                 391936.67  66676.0                  97.0   \n",
              "949                 289873.27      0.0                  96.0   \n",
              "1019                386477.68  24204.0                  99.0   \n",
              "1022                366737.50  62375.0                  92.0   \n",
              "1068                323912.47  16061.0                  88.0   \n",
              "\n",
              "      number_of_open_complaints     policy_type  vehicle_class  \\\n",
              "17                          0.0   Personal Auto            SUV   \n",
              "23                          3.0  Corporate Auto  Four-Door Car   \n",
              "26                          0.0   Personal Auto  Four-Door Car   \n",
              "38                          0.0   Personal Auto   Two-Door Car   \n",
              "42                          0.0   Personal Auto  Four-Door Car   \n",
              "62                          0.0   Personal Auto   Two-Door Car   \n",
              "135                         0.0   Personal Auto            SUV   \n",
              "140                         0.0   Personal Auto   Two-Door Car   \n",
              "158                         0.0   Personal Auto         Luxury   \n",
              "160                         0.0  Corporate Auto   Two-Door Car   \n",
              "170                         0.0   Personal Auto  Four-Door Car   \n",
              "184                         0.0   Personal Auto            SUV   \n",
              "204                         3.0   Personal Auto  Four-Door Car   \n",
              "250                         0.0   Personal Auto   Two-Door Car   \n",
              "269                         0.0  Corporate Auto         Luxury   \n",
              "279                         0.0   Personal Auto   Two-Door Car   \n",
              "304                         0.0   Personal Auto  Four-Door Car   \n",
              "388                         0.0   Personal Auto         Luxury   \n",
              "415                         1.0    Special Auto         Luxury   \n",
              "448                         0.0  Corporate Auto  Four-Door Car   \n",
              "450                         0.0   Personal Auto         Luxury   \n",
              "467                         0.0  Corporate Auto  Four-Door Car   \n",
              "486                         0.0   Personal Auto  Four-Door Car   \n",
              "500                         0.0  Corporate Auto   Two-Door Car   \n",
              "502                         2.0  Corporate Auto            SUV   \n",
              "565                         0.0  Corporate Auto         Luxury   \n",
              "590                         2.0   Personal Auto            SUV   \n",
              "593                         0.0   Personal Auto            SUV   \n",
              "638                         0.0   Personal Auto   Two-Door Car   \n",
              "645                         5.0  Corporate Auto            SUV   \n",
              "669                         1.0   Personal Auto  Four-Door Car   \n",
              "709                         0.0   Personal Auto  Four-Door Car   \n",
              "788                         0.0   Personal Auto  Four-Door Car   \n",
              "853                         0.0   Personal Auto            SUV   \n",
              "891                         0.0  Corporate Auto            SUV   \n",
              "908                         0.0   Personal Auto  Four-Door Car   \n",
              "949                         4.0   Personal Auto  Four-Door Car   \n",
              "1019                        1.0   Personal Auto  Four-Door Car   \n",
              "1022                        0.0   Personal Auto   Two-Door Car   \n",
              "1068                        0.0   Personal Auto  Four-Door Car   \n",
              "\n",
              "      total_claim_amount  \n",
              "17            647.442031  \n",
              "23            554.376763  \n",
              "26            799.200000  \n",
              "38            648.000000  \n",
              "42            882.871945  \n",
              "62            863.327324  \n",
              "135           975.107098  \n",
              "140           721.242206  \n",
              "158           701.708239  \n",
              "160           679.368378  \n",
              "170           542.319401  \n",
              "184           792.000000  \n",
              "204           669.682001  \n",
              "250           773.470977  \n",
              "269           741.600000  \n",
              "279           641.388616  \n",
              "304           676.944023  \n",
              "388           701.708239  \n",
              "415           806.400000  \n",
              "448           845.654042  \n",
              "450           668.293970  \n",
              "467           662.400000  \n",
              "486           614.675906  \n",
              "500           842.437850  \n",
              "502          1171.931170  \n",
              "565           564.466556  \n",
              "590           537.600000  \n",
              "593           799.200000  \n",
              "638           623.223617  \n",
              "645           862.762957  \n",
              "669           541.695658  \n",
              "709           643.826716  \n",
              "788           632.715382  \n",
              "853           727.200000  \n",
              "891          1185.988301  \n",
              "908           558.099357  \n",
              "949           691.200000  \n",
              "1019          707.303416  \n",
              "1022          618.630955  \n",
              "1068          633.600000  "
            ]
          },
          "execution_count": 204,
          "metadata": {},
          "output_type": "execute_result"
        }
      ],
      "source": [
        "potential_areas = df[(df[\"total_claim_amount\"]>quantile_75_claim) & (df[\"customer_lifetime_value\"] < quantil_25)]\n",
        "potential_areas"
      ]
    },
    {
      "cell_type": "code",
      "execution_count": 203,
      "id": "f72a8872",
      "metadata": {},
      "outputs": [
        {
          "data": {
            "text/plain": [
              "(40, 11)"
            ]
          },
          "execution_count": 203,
          "metadata": {},
          "output_type": "execute_result"
        }
      ],
      "source": [
        "potential_areas.shape"
      ]
    },
    {
      "cell_type": "markdown",
      "id": "d8375090",
      "metadata": {},
      "source": [
        "- Use DataFrame methods to calculate summary statistics about the high policy claim amount and low customer lifetime value data. To do so, select both columns of the dataframe simultaneously and pass it to the `.describe()` method. This will give you descriptive statistics, such as mean, median, standard deviation, minimum and maximum values for both columns at the same time, allowing you to compare and analyze their characteristics."
      ]
    },
    {
      "cell_type": "code",
      "execution_count": 207,
      "id": "8c4ec038",
      "metadata": {},
      "outputs": [
        {
          "data": {
            "text/html": [
              "<div>\n",
              "<style scoped>\n",
              "    .dataframe tbody tr th:only-of-type {\n",
              "        vertical-align: middle;\n",
              "    }\n",
              "\n",
              "    .dataframe tbody tr th {\n",
              "        vertical-align: top;\n",
              "    }\n",
              "\n",
              "    .dataframe thead th {\n",
              "        text-align: right;\n",
              "    }\n",
              "</style>\n",
              "<table border=\"1\" class=\"dataframe\">\n",
              "  <thead>\n",
              "    <tr style=\"text-align: right;\">\n",
              "      <th></th>\n",
              "      <th>total_claim_amount</th>\n",
              "      <th>customer_lifetime_value</th>\n",
              "    </tr>\n",
              "  </thead>\n",
              "  <tbody>\n",
              "    <tr>\n",
              "      <th>count</th>\n",
              "      <td>1071.000000</td>\n",
              "      <td>1.071000e+03</td>\n",
              "    </tr>\n",
              "    <tr>\n",
              "      <th>mean</th>\n",
              "      <td>404.986909</td>\n",
              "      <td>7.936903e+05</td>\n",
              "    </tr>\n",
              "    <tr>\n",
              "      <th>std</th>\n",
              "      <td>293.027260</td>\n",
              "      <td>6.425757e+05</td>\n",
              "    </tr>\n",
              "    <tr>\n",
              "      <th>min</th>\n",
              "      <td>0.382107</td>\n",
              "      <td>2.004351e+05</td>\n",
              "    </tr>\n",
              "    <tr>\n",
              "      <th>25%</th>\n",
              "      <td>202.157702</td>\n",
              "      <td>4.048535e+05</td>\n",
              "    </tr>\n",
              "    <tr>\n",
              "      <th>50%</th>\n",
              "      <td>354.729129</td>\n",
              "      <td>5.887182e+05</td>\n",
              "    </tr>\n",
              "    <tr>\n",
              "      <th>75%</th>\n",
              "      <td>532.800000</td>\n",
              "      <td>8.945210e+05</td>\n",
              "    </tr>\n",
              "    <tr>\n",
              "      <th>max</th>\n",
              "      <td>2893.239678</td>\n",
              "      <td>5.816655e+06</td>\n",
              "    </tr>\n",
              "  </tbody>\n",
              "</table>\n",
              "</div>"
            ],
            "text/plain": [
              "       total_claim_amount  customer_lifetime_value\n",
              "count         1071.000000             1.071000e+03\n",
              "mean           404.986909             7.936903e+05\n",
              "std            293.027260             6.425757e+05\n",
              "min              0.382107             2.004351e+05\n",
              "25%            202.157702             4.048535e+05\n",
              "50%            354.729129             5.887182e+05\n",
              "75%            532.800000             8.945210e+05\n",
              "max           2893.239678             5.816655e+06"
            ]
          },
          "execution_count": 207,
          "metadata": {},
          "output_type": "execute_result"
        }
      ],
      "source": [
        "df[[\"total_claim_amount\", \"customer_lifetime_value\"]].describe()"
      ]
    },
    {
      "cell_type": "code",
      "execution_count": null,
      "id": "c2d2f4c4",
      "metadata": {},
      "outputs": [],
      "source": []
    }
  ],
  "metadata": {
    "colab": {
      "provenance": []
    },
    "kernelspec": {
      "display_name": "base",
      "language": "python",
      "name": "python3"
    },
    "language_info": {
      "codemirror_mode": {
        "name": "ipython",
        "version": 3
      },
      "file_extension": ".py",
      "mimetype": "text/x-python",
      "name": "python",
      "nbconvert_exporter": "python",
      "pygments_lexer": "ipython3",
      "version": "3.11.7"
    }
  },
  "nbformat": 4,
  "nbformat_minor": 5
}
